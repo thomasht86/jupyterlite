{
  "metadata": {
    "kernelspec": {
      "name": "python",
      "display_name": "Pyolite",
      "language": "python"
    },
    "language_info": {
      "codemirror_mode": {
        "name": "python",
        "version": 3
      },
      "file_extension": ".py",
      "mimetype": "text/x-python",
      "name": "python",
      "nbconvert_exporter": "python",
      "pygments_lexer": "ipython3",
      "version": "3.8"
    }
  },
  "nbformat_minor": 5,
  "nbformat": 4,
  "cells": [
    {
      "cell_type": "markdown",
      "source": "# Pandas challenge\n\nWhile looking into the datasets provided for the [FishAI: Sustainable Commercial Fishing](https://www.nora.ai/Competition/sustainable-fishing.html)-challenge this morning, I stumbled into an interesting pandas challenge. I love solving small problems like this myself, so I thought I might share it with others. The dataset here is a sample of the dataset provided in the challenge. \n\nThen I remembered reading about [Jupyterlite](https://github.com/jupyterlite/demo), and decided to try to share a link to a live notebook, so people can solve the puzzle right in their own browser without any installation, downloading of files or any other hassle - just dive straight into the code. \n\nSo, let's see if it works!",
      "metadata": {},
      "id": "f5ed088e"
    },
    {
      "cell_type": "markdown",
      "source": "![test](https://www.nora.ai/Competition/screenshot-2022-05-09-at-14.13.55.png)",
      "metadata": {},
      "id": "3ef334de"
    },
    {
      "cell_type": "code",
      "source": "# Imports\nimport pandas as pd\nimport numpy as np\nimport pyodide",
      "metadata": {
        "trusted": true
      },
      "execution_count": 1,
      "outputs": [],
      "id": "3f4df926"
    },
    {
      "cell_type": "code",
      "source": "# Read a sample of the dataset",
      "metadata": {},
      "execution_count": 11,
      "outputs": [],
      "id": "813d4845"
    },
    {
      "cell_type": "code",
      "source": "df1 = pd.read_csv(pyodide.open_url(\n  \"https://raw.githubusercontent.com/thomasht86/jupyterlite/main/content/data/sample_df.csv\")\n)",
      "metadata": {
        "trusted": true
      },
      "execution_count": 4,
      "outputs": [],
      "id": "cd058099"
    },
    {
      "cell_type": "code",
      "source": "df1.sample(5)",
      "metadata": {
        "trusted": true
      },
      "execution_count": 5,
      "outputs": [
        {
          "execution_count": 5,
          "output_type": "execute_result",
          "data": {
            "text/plain": "        Fartøy ID Siste fangstdato  Lokasjon (kode)  Lon (lokasjon)  \\\n616  2.013061e+09       17.02.2014             35.0        17.50000   \n977  2.015070e+09       07.08.2018             30.0         7.67022   \n670  1.979007e+09       06.09.2012             50.0        13.66667   \n180  2.005033e+09       08.10.2005             27.0        11.50000   \n872  2.006036e+09       09.10.2006             30.0        17.49100   \n\n     Lat (lokasjon)          Art Art - gruppe  Rundvekt        date  \n616        70.25000        Torsk        Torsk      51.0  2014-02-17  \n977        57.81892  Taskekrabbe  Taskekrabbe     672.0  2018-07-08  \n670        67.61111        Torsk        Torsk      18.0  2012-06-09  \n180        66.25000        Torsk        Torsk      16.5  2005-08-10  \n872        69.74206         Hyse         Hyse     761.5  2006-09-10  ",
            "text/html": "<div>\n<style scoped>\n    .dataframe tbody tr th:only-of-type {\n        vertical-align: middle;\n    }\n\n    .dataframe tbody tr th {\n        vertical-align: top;\n    }\n\n    .dataframe thead th {\n        text-align: right;\n    }\n</style>\n<table border=\"1\" class=\"dataframe\">\n  <thead>\n    <tr style=\"text-align: right;\">\n      <th></th>\n      <th>Fartøy ID</th>\n      <th>Siste fangstdato</th>\n      <th>Lokasjon (kode)</th>\n      <th>Lon (lokasjon)</th>\n      <th>Lat (lokasjon)</th>\n      <th>Art</th>\n      <th>Art - gruppe</th>\n      <th>Rundvekt</th>\n      <th>date</th>\n    </tr>\n  </thead>\n  <tbody>\n    <tr>\n      <th>616</th>\n      <td>2.013061e+09</td>\n      <td>17.02.2014</td>\n      <td>35.0</td>\n      <td>17.50000</td>\n      <td>70.25000</td>\n      <td>Torsk</td>\n      <td>Torsk</td>\n      <td>51.0</td>\n      <td>2014-02-17</td>\n    </tr>\n    <tr>\n      <th>977</th>\n      <td>2.015070e+09</td>\n      <td>07.08.2018</td>\n      <td>30.0</td>\n      <td>7.67022</td>\n      <td>57.81892</td>\n      <td>Taskekrabbe</td>\n      <td>Taskekrabbe</td>\n      <td>672.0</td>\n      <td>2018-07-08</td>\n    </tr>\n    <tr>\n      <th>670</th>\n      <td>1.979007e+09</td>\n      <td>06.09.2012</td>\n      <td>50.0</td>\n      <td>13.66667</td>\n      <td>67.61111</td>\n      <td>Torsk</td>\n      <td>Torsk</td>\n      <td>18.0</td>\n      <td>2012-06-09</td>\n    </tr>\n    <tr>\n      <th>180</th>\n      <td>2.005033e+09</td>\n      <td>08.10.2005</td>\n      <td>27.0</td>\n      <td>11.50000</td>\n      <td>66.25000</td>\n      <td>Torsk</td>\n      <td>Torsk</td>\n      <td>16.5</td>\n      <td>2005-08-10</td>\n    </tr>\n    <tr>\n      <th>872</th>\n      <td>2.006036e+09</td>\n      <td>09.10.2006</td>\n      <td>30.0</td>\n      <td>17.49100</td>\n      <td>69.74206</td>\n      <td>Hyse</td>\n      <td>Hyse</td>\n      <td>761.5</td>\n      <td>2006-09-10</td>\n    </tr>\n  </tbody>\n</table>\n</div>"
          },
          "metadata": {}
        }
      ],
      "id": "0f9fb95f"
    },
    {
      "cell_type": "markdown",
      "source": "The dataframe contains some fishing-related columns, but for the purpose of this puzzle, the ```date```-column is the only one needed. The date is between 2000-01-01 and 2021-12-31. \n\nThe puzzle should be easy to grasp: We want to add a new feature-column to this DataFrame, which indicates ```days_since_full_moon```-as the moonphase is something that might affect migration of fish. \n\nTo add this feature, we have a second dataset which include all the dates with full moon from 1950-2022. ",
      "metadata": {},
      "id": "68cc4c15"
    },
    {
      "cell_type": "code",
      "source": "df2 = pd.read_csv(pyodide.open_url(\n  \"https://raw.githubusercontent.com/thomasht86/jupyterlite/main/content/data/full_moon.csv\")\n)",
      "metadata": {
        "trusted": true
      },
      "execution_count": 6,
      "outputs": [],
      "id": "ad47e61c"
    },
    {
      "cell_type": "code",
      "source": "df2.sample(5)",
      "metadata": {
        "trusted": true
      },
      "execution_count": 7,
      "outputs": [
        {
          "execution_count": 7,
          "output_type": "execute_result",
          "data": {
            "text/plain": "           Day                Date          Time\n874    Tuesday   15 September 1970   12:09:24 pm\n164     Sunday       20 April 1913   10:32:24 pm\n1511    Friday       18 March 2022   08:17:36 am\n172   Saturday    13 December 1913   04:00:00 pm\n429     Sunday   23 September 1934   05:18:48 am",
            "text/html": "<div>\n<style scoped>\n    .dataframe tbody tr th:only-of-type {\n        vertical-align: middle;\n    }\n\n    .dataframe tbody tr th {\n        vertical-align: top;\n    }\n\n    .dataframe thead th {\n        text-align: right;\n    }\n</style>\n<table border=\"1\" class=\"dataframe\">\n  <thead>\n    <tr style=\"text-align: right;\">\n      <th></th>\n      <th>Day</th>\n      <th>Date</th>\n      <th>Time</th>\n    </tr>\n  </thead>\n  <tbody>\n    <tr>\n      <th>874</th>\n      <td>Tuesday</td>\n      <td>15 September 1970</td>\n      <td>12:09:24 pm</td>\n    </tr>\n    <tr>\n      <th>164</th>\n      <td>Sunday</td>\n      <td>20 April 1913</td>\n      <td>10:32:24 pm</td>\n    </tr>\n    <tr>\n      <th>1511</th>\n      <td>Friday</td>\n      <td>18 March 2022</td>\n      <td>08:17:36 am</td>\n    </tr>\n    <tr>\n      <th>172</th>\n      <td>Saturday</td>\n      <td>13 December 1913</td>\n      <td>04:00:00 pm</td>\n    </tr>\n    <tr>\n      <th>429</th>\n      <td>Sunday</td>\n      <td>23 September 1934</td>\n      <td>05:18:48 am</td>\n    </tr>\n  </tbody>\n</table>\n</div>"
          },
          "metadata": {}
        }
      ],
      "id": "0eaa58f4"
    },
    {
      "cell_type": "code",
      "source": "def add_days_since_fullmoon(df1, df2):\n    # Write your solution here\n    \n    assert df[\"days_since_last_fullmoon\"].sum()==14041\n    return df",
      "metadata": {
        "trusted": true
      },
      "execution_count": 8,
      "outputs": [],
      "id": "081b8e6d"
    },
    {
      "cell_type": "code",
      "source": "%timeit df3 = add_days_since_fullmoon(df1, df2)",
      "metadata": {},
      "execution_count": 17,
      "outputs": [
        {
          "name": "stdout",
          "output_type": "stream",
          "text": "131 ms ± 1.3 ms per loop (mean ± std. dev. of 7 runs, 10 loops each)\n"
        }
      ],
      "id": "ccee354b"
    },
    {
      "cell_type": "markdown",
      "source": "Can you make it without any looping, or row-wise operations? 👩‍💻🤓",
      "metadata": {},
      "id": "d2afdbd5"
    },
    {
      "cell_type": "code",
      "source": "",
      "metadata": {},
      "execution_count": null,
      "outputs": [],
      "id": "0c55b760"
    }
  ]
}