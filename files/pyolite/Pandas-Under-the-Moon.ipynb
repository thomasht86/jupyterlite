{
 "cells": [
  {
   "cell_type": "markdown",
   "id": "f5ed088e",
   "metadata": {},
   "source": [
    "# Pandas challenge\n",
    "\n",
    "While looking into the datasets provided for the [FishAI: Sustainable Commercial Fishing](https://www.nora.ai/Competition/sustainable-fishing.html)-challenge this morning, I stumbled into an interesting pandas challenge. I love solving small problems like this myself, so I thought I might share it with others. The dataset here is a sample of the dataset provided in the challenge. \n",
    "\n",
    "Then I remembered reading about [Jupyterlite](https://github.com/jupyterlite/demo), and decided to try to share a link to a live notebook, so people can solve the puzzle right in their own browser without any installation, downloading of files or any other hassle - just dive straight into the code. \n",
    "\n",
    "So, let's see if it works!"
   ]
  },
  {
   "cell_type": "markdown",
   "id": "3ef334de",
   "metadata": {},
   "source": [
    "![test](https://www.nora.ai/Competition/screenshot-2022-05-09-at-14.13.55.png)"
   ]
  },
  {
   "cell_type": "code",
   "execution_count": 10,
   "id": "3f4df926",
   "metadata": {},
   "outputs": [],
   "source": [
    "# Imports\n",
    "import pandas as pd\n",
    "import numpy as np"
   ]
  },
  {
   "cell_type": "code",
   "execution_count": 11,
   "id": "813d4845",
   "metadata": {},
   "outputs": [],
   "source": [
    "# Read a sample of the dataset"
   ]
  },
  {
   "cell_type": "code",
   "execution_count": 12,
   "id": "cd058099",
   "metadata": {},
   "outputs": [],
   "source": [
    "df1 = pd.read_csv(\"../data/sample_df.csv\")"
   ]
  },
  {
   "cell_type": "code",
   "execution_count": 13,
   "id": "0f9fb95f",
   "metadata": {},
   "outputs": [
    {
     "data": {
      "text/html": [
       "<div>\n",
       "<style scoped>\n",
       "    .dataframe tbody tr th:only-of-type {\n",
       "        vertical-align: middle;\n",
       "    }\n",
       "\n",
       "    .dataframe tbody tr th {\n",
       "        vertical-align: top;\n",
       "    }\n",
       "\n",
       "    .dataframe thead th {\n",
       "        text-align: right;\n",
       "    }\n",
       "</style>\n",
       "<table border=\"1\" class=\"dataframe\">\n",
       "  <thead>\n",
       "    <tr style=\"text-align: right;\">\n",
       "      <th></th>\n",
       "      <th>Fartøy ID</th>\n",
       "      <th>Siste fangstdato</th>\n",
       "      <th>Lokasjon (kode)</th>\n",
       "      <th>Lon (lokasjon)</th>\n",
       "      <th>Lat (lokasjon)</th>\n",
       "      <th>Art</th>\n",
       "      <th>Art - gruppe</th>\n",
       "      <th>Rundvekt</th>\n",
       "      <th>date</th>\n",
       "    </tr>\n",
       "  </thead>\n",
       "  <tbody>\n",
       "    <tr>\n",
       "      <th>847</th>\n",
       "      <td>1.997002e+09</td>\n",
       "      <td>02.05.2011</td>\n",
       "      <td>2.0</td>\n",
       "      <td>19.50000</td>\n",
       "      <td>70.25000</td>\n",
       "      <td>Brosme</td>\n",
       "      <td>Annen torskefisk</td>\n",
       "      <td>63.0</td>\n",
       "      <td>2011-02-05</td>\n",
       "    </tr>\n",
       "    <tr>\n",
       "      <th>414</th>\n",
       "      <td>2.008044e+09</td>\n",
       "      <td>17.01.2019</td>\n",
       "      <td>25.0</td>\n",
       "      <td>26.79157</td>\n",
       "      <td>70.49274</td>\n",
       "      <td>Kongekrabbe, han-</td>\n",
       "      <td>Kongekrabbe, han</td>\n",
       "      <td>45.0</td>\n",
       "      <td>2019-01-17</td>\n",
       "    </tr>\n",
       "    <tr>\n",
       "      <th>874</th>\n",
       "      <td>2.014064e+09</td>\n",
       "      <td>14.01.2016</td>\n",
       "      <td>24.0</td>\n",
       "      <td>15.47374</td>\n",
       "      <td>69.26583</td>\n",
       "      <td>Torsk</td>\n",
       "      <td>Torsk</td>\n",
       "      <td>363.0</td>\n",
       "      <td>2016-01-14</td>\n",
       "    </tr>\n",
       "    <tr>\n",
       "      <th>690</th>\n",
       "      <td>1.998006e+09</td>\n",
       "      <td>28.02.2009</td>\n",
       "      <td>46.0</td>\n",
       "      <td>14.56579</td>\n",
       "      <td>68.15924</td>\n",
       "      <td>Sei</td>\n",
       "      <td>Sei</td>\n",
       "      <td>25.7</td>\n",
       "      <td>2009-02-28</td>\n",
       "    </tr>\n",
       "    <tr>\n",
       "      <th>929</th>\n",
       "      <td>NaN</td>\n",
       "      <td>31.10.2005</td>\n",
       "      <td>4.0</td>\n",
       "      <td>4.50000</td>\n",
       "      <td>61.75000</td>\n",
       "      <td>Breiflabb</td>\n",
       "      <td>Annen flatfisk, bunnfisk og dypvannsfisk</td>\n",
       "      <td>2.4</td>\n",
       "      <td>2005-10-31</td>\n",
       "    </tr>\n",
       "  </tbody>\n",
       "</table>\n",
       "</div>"
      ],
      "text/plain": [
       "        Fartøy ID Siste fangstdato  Lokasjon (kode)  Lon (lokasjon)  \\\n",
       "847  1.997002e+09       02.05.2011              2.0        19.50000   \n",
       "414  2.008044e+09       17.01.2019             25.0        26.79157   \n",
       "874  2.014064e+09       14.01.2016             24.0        15.47374   \n",
       "690  1.998006e+09       28.02.2009             46.0        14.56579   \n",
       "929           NaN       31.10.2005              4.0         4.50000   \n",
       "\n",
       "     Lat (lokasjon)                Art  \\\n",
       "847        70.25000             Brosme   \n",
       "414        70.49274  Kongekrabbe, han-   \n",
       "874        69.26583              Torsk   \n",
       "690        68.15924                Sei   \n",
       "929        61.75000          Breiflabb   \n",
       "\n",
       "                                 Art - gruppe  Rundvekt        date  \n",
       "847                          Annen torskefisk      63.0  2011-02-05  \n",
       "414                          Kongekrabbe, han      45.0  2019-01-17  \n",
       "874                                     Torsk     363.0  2016-01-14  \n",
       "690                                       Sei      25.7  2009-02-28  \n",
       "929  Annen flatfisk, bunnfisk og dypvannsfisk       2.4  2005-10-31  "
      ]
     },
     "execution_count": 13,
     "metadata": {},
     "output_type": "execute_result"
    }
   ],
   "source": [
    "df1.sample(5)"
   ]
  },
  {
   "cell_type": "markdown",
   "id": "68cc4c15",
   "metadata": {},
   "source": [
    "The dataframe contains some fishing-related columns, but for the purpose of this puzzle, the ```date```-column is the only one needed. The date is between 2000-01-01 and 2021-12-31. \n",
    "\n",
    "The puzzle should be easy to grasp: We want to add a new feature-column to this DataFrame, which indicates ```days_since_full_moon```-as the moonphase is something that might affect migration of fish. \n",
    "\n",
    "To add this feature, we have a second dataset which include all the dates with full moon from 1950-2022. "
   ]
  },
  {
   "cell_type": "code",
   "execution_count": 14,
   "id": "ad47e61c",
   "metadata": {},
   "outputs": [],
   "source": [
    "df2 = pd.read_csv(\"../data/full_moon.csv\")"
   ]
  },
  {
   "cell_type": "code",
   "execution_count": 15,
   "id": "0eaa58f4",
   "metadata": {},
   "outputs": [
    {
     "data": {
      "text/html": [
       "<div>\n",
       "<style scoped>\n",
       "    .dataframe tbody tr th:only-of-type {\n",
       "        vertical-align: middle;\n",
       "    }\n",
       "\n",
       "    .dataframe tbody tr th {\n",
       "        vertical-align: top;\n",
       "    }\n",
       "\n",
       "    .dataframe thead th {\n",
       "        text-align: right;\n",
       "    }\n",
       "</style>\n",
       "<table border=\"1\" class=\"dataframe\">\n",
       "  <thead>\n",
       "    <tr style=\"text-align: right;\">\n",
       "      <th></th>\n",
       "      <th>Day</th>\n",
       "      <th>Date</th>\n",
       "      <th>Time</th>\n",
       "    </tr>\n",
       "  </thead>\n",
       "  <tbody>\n",
       "    <tr>\n",
       "      <th>1851</th>\n",
       "      <td>Saturday</td>\n",
       "      <td>11 September 2049</td>\n",
       "      <td>06:04:24 pm</td>\n",
       "    </tr>\n",
       "    <tr>\n",
       "      <th>1371</th>\n",
       "      <td>Sunday</td>\n",
       "      <td>21 November 2010</td>\n",
       "      <td>06:27:24 pm</td>\n",
       "    </tr>\n",
       "    <tr>\n",
       "      <th>636</th>\n",
       "      <td>Tuesday</td>\n",
       "      <td>19 June 1951</td>\n",
       "      <td>01:35:54 pm</td>\n",
       "    </tr>\n",
       "    <tr>\n",
       "      <th>1273</th>\n",
       "      <td>Thursday</td>\n",
       "      <td>19 December 2002</td>\n",
       "      <td>08:10:12 pm</td>\n",
       "    </tr>\n",
       "    <tr>\n",
       "      <th>181</th>\n",
       "      <td>Friday</td>\n",
       "      <td>4 September 1914</td>\n",
       "      <td>03:00:48 pm</td>\n",
       "    </tr>\n",
       "  </tbody>\n",
       "</table>\n",
       "</div>"
      ],
      "text/plain": [
       "           Day                Date          Time\n",
       "1851  Saturday   11 September 2049   06:04:24 pm\n",
       "1371    Sunday    21 November 2010   06:27:24 pm\n",
       "636    Tuesday        19 June 1951   01:35:54 pm\n",
       "1273  Thursday    19 December 2002   08:10:12 pm\n",
       "181     Friday    4 September 1914   03:00:48 pm"
      ]
     },
     "execution_count": 15,
     "metadata": {},
     "output_type": "execute_result"
    }
   ],
   "source": [
    "df2.sample(5)"
   ]
  },
  {
   "cell_type": "code",
   "execution_count": 16,
   "id": "081b8e6d",
   "metadata": {},
   "outputs": [],
   "source": [
    "def add_days_since_fullmoon(df1, df2):\n",
    "    # Write your solution here\n",
    "    \n",
    "    assert df[\"days_since_last_fullmoon\"].sum()==14041\n",
    "    return df"
   ]
  },
  {
   "cell_type": "code",
   "execution_count": 17,
   "id": "ccee354b",
   "metadata": {},
   "outputs": [
    {
     "name": "stdout",
     "output_type": "stream",
     "text": [
      "131 ms ± 1.3 ms per loop (mean ± std. dev. of 7 runs, 10 loops each)\n"
     ]
    }
   ],
   "source": [
    "%timeit df3 = add_days_since_fullmoon(df1, df2)"
   ]
  },
  {
   "cell_type": "markdown",
   "id": "d2afdbd5",
   "metadata": {},
   "source": [
    "Can you make it without any looping, or row-wise operations? 👩‍💻🤓"
   ]
  },
  {
   "cell_type": "code",
   "execution_count": null,
   "id": "0c55b760",
   "metadata": {},
   "outputs": [],
   "source": []
  }
 ],
 "metadata": {
  "kernelspec": {
   "display_name": "Python 3 (ipykernel)",
   "language": "python",
   "name": "python3"
  },
  "language_info": {
   "codemirror_mode": {
    "name": "ipython",
    "version": 3
   },
   "file_extension": ".py",
   "mimetype": "text/x-python",
   "name": "python",
   "nbconvert_exporter": "python",
   "pygments_lexer": "ipython3",
   "version": "3.9.7"
  }
 },
 "nbformat": 4,
 "nbformat_minor": 5
}
